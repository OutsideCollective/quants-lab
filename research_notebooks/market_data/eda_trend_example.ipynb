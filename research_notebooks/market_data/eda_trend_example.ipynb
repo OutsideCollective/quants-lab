{
 "cells": [
  {
   "cell_type": "markdown",
   "metadata": {
    "collapsed": false
   },
   "source": [
    "# RESEARCH NOTEBOOK --> XGridT\n"
   ]
  },
  {
   "cell_type": "code",
   "metadata": {
    "collapsed": false
   },
   "source": [
    "import warnings\n",
    "\n",
    "warnings.filterwarnings(\"ignore\")\n",
    "\n",
    "import pandas_ta as ta  # noqa: F401\n",
    "from core.data_sources import CLOBDataSource\n",
    "\n",
    "\n",
    "# Initialize the data source\n",
    "clob = CLOBDataSource()"
   ],
   "outputs": [],
   "execution_count": null
  },
  {
   "cell_type": "code",
   "metadata": {
    "collapsed": false
   },
   "source": [
    "# Define the parameters\n",
    "CONNECTOR_NAME = \"binance_perpetual\"\n",
    "TRADING_PAIR = \"WLD-USDT\"\n",
    "INTERVAL = \"1m\""
   ],
   "outputs": [],
   "execution_count": null
  },
  {
   "cell_type": "code",
   "metadata": {},
   "source": [
    "clob.load_candles_cache()\n",
    "candles = next(candle for candle in clob.candles_cache.values()\n",
    "               if candle.trading_pair == TRADING_PAIR and\n",
    "               candle.connector_name == CONNECTOR_NAME and\n",
    "               candle.interval == INTERVAL)"
   ],
   "outputs": [],
   "execution_count": null
  },
  {
   "cell_type": "code",
   "metadata": {},
   "source": [
    "import plotly.graph_objects as go\n",
    "\n",
    "ema_short = 12\n",
    "ema_medium = 100\n",
    "ema_long = 300\n",
    "\n",
    "\n",
    "df = candles.data.copy()\n",
    "df.ta.ema(length=ema_short, append=True)\n",
    "df.ta.ema(length=ema_medium, append=True)\n",
    "df.ta.ema(length=ema_long, append=True)\n",
    "\n",
    "short_ema = df[f\"EMA_{ema_short}\"]\n",
    "medium_ema = df[f\"EMA_{ema_medium}\"]\n",
    "long_ema = df[f\"EMA_{ema_long}\"]\n",
    "close = df[\"close\"]\n",
    "\n",
    "\n",
    "long_condition = (short_ema > medium_ema) & (medium_ema > long_ema) & (short_ema > long_ema)\n",
    "short_condition = (short_ema < medium_ema) & (medium_ema < long_ema) & (short_ema < long_ema)\n",
    "\n",
    "df.loc[long_condition, \"signal\"] = 1\n",
    "df.loc[short_condition, \"signal\"] = -1\n",
    "\n",
    "\n",
    "fig = candles.fig(width=1200)\n",
    "ema_fast = f'EMA_{ema_short}'\n",
    "ema_med = f'EMA_{ema_medium}' \n",
    "ema_slow = f'EMA_{ema_long}'\n",
    "\n",
    "fig.add_trace(go.Scatter(x=df.index, y=df[ema_fast],\n",
    "                         line=dict(color='white', width=2),\n",
    "                         name='Fast EMA'))\n",
    "fig.add_trace(go.Scatter(x=df.index, y=df[ema_med],\n",
    "                         line=dict(color='blue', width=2), \n",
    "                         name='Medium EMA'))\n",
    "fig.add_trace(go.Scatter(x=df.index, y=df[ema_slow],\n",
    "                         line=dict(color='violet', width=2),\n",
    "                         name='Slow EMA'))\n",
    "\n",
    "fig.show()\n"
   ],
   "outputs": [],
   "execution_count": null
  },
  {
   "cell_type": "code",
   "metadata": {},
   "source": [
    "df"
   ],
   "outputs": [],
   "execution_count": null
  },
  {
   "metadata": {
    "collapsed": false
   },
   "cell_type": "code",
   "source": [
    "# Generate signal\n",
    "\n",
    "\n",
    "short_ema = df[f\"EMA_{ema_short}\"]\n",
    "medium_ema = df[f\"EMA_{ema_medium}\"]\n",
    "long_ema = df[f\"EMA_{ema_long}\"]\n",
    "close = df[\"close\"]\n",
    "\n",
    "\n",
    "long_condition = (short_ema > medium_ema) & (medium_ema > long_ema) & (short_ema > long_ema)\n",
    "short_condition = (short_ema < medium_ema) & (medium_ema < long_ema) & (short_ema < long_ema)\n",
    "\n",
    "df[\"signal\"] = 0\n",
    "df.loc[long_condition, \"signal\"] = 1\n",
    "df.loc[short_condition, \"signal\"] = -1"
   ],
   "outputs": [],
   "execution_count": null
  },
  {
   "cell_type": "code",
   "metadata": {
    "collapsed": false
   },
   "source": [
    "from plotly.subplots import make_subplots\n",
    "import plotly.graph_objects as go\n",
    "\n",
    "fig = make_subplots(rows=3, cols=1, shared_xaxes=True, vertical_spacing=0.02,\n",
    "                    subplot_titles=('OHLC with BB', 'MACD', 'Signal'),\n",
    "                    row_heights=[0.6, 0.2, 0.2])\n",
    "\n",
    "# Add candlestick\n",
    "fig.add_trace(go.Candlestick(x=df.index,\n",
    "                             open=df['open'],\n",
    "                             high=df['high'],\n",
    "                             low=df['low'],\n",
    "                             close=df['close'],\n",
    "                             name='Candlesticks'),\n",
    "              row=1, col=1)\n",
    "\n",
    "\n",
    "# Add EMAs\n",
    "ema_fast = f'EMA_{ema_short}'\n",
    "ema_med = f'EMA_{ema_medium}' \n",
    "ema_slow = f'EMA_{ema_long}'\n",
    "\n",
    "fig.add_trace(go.Scatter(x=df.index, y=df[ema_fast],\n",
    "                         line=dict(color='#00FF00', width=2),\n",
    "                         name='Fast EMA'), row=1, col=1)\n",
    "fig.add_trace(go.Scatter(x=df.index, y=df[ema_med],\n",
    "                         line=dict(color='#FFA500', width=2), \n",
    "                         name='Medium EMA'), row=1, col=1)\n",
    "fig.add_trace(go.Scatter(x=df.index, y=df[ema_slow],\n",
    "                         line=dict(color='#0000FF', width=2),\n",
    "                         name='Slow EMA'), row=1, col=1)\n",
    "\n",
    "\n",
    "\n",
    "# Add the signal line\n",
    "fig.add_trace(go.Scatter(x=df.index, y=df['signal'],\n",
    "                         mode='lines',\n",
    "                         name='Signal',\n",
    "                         line=dict(color=\"white\")),\n",
    "              row=3, col=1)\n",
    "\n",
    "# Update layout for dark theme\n",
    "fig.update_layout(\n",
    "    title=f'{exchange} - {trading_pair} - {interval}',\n",
    "    width=1500, height=1000,\n",
    "    font=dict(color='#e1e1e1'),\n",
    "    plot_bgcolor='#1e1e1e',\n",
    "    paper_bgcolor='#1e1e1e',\n",
    "    xaxis_rangeslider_visible=False,\n",
    "    legend=dict(bgcolor='rgba(0,0,0,0)'),\n",
    "    yaxis=dict(title='Price'),\n",
    "    yaxis2=dict(title='MACD', showgrid=False),\n",
    "    yaxis3=dict(title='Signal', showgrid=False),\n",
    "    showlegend=False\n",
    ")\n",
    "\n",
    "# Update axes\n",
    "fig.update_xaxes(showgrid=True, gridwidth=1, gridcolor='#323232', zeroline=False)\n",
    "fig.update_yaxes(showgrid=True, gridwidth=1, gridcolor='#323232', zeroline=False)\n",
    "\n",
    "# Show the plot\n",
    "fig.show()\n"
   ],
   "outputs": [],
   "execution_count": null
  },
  {
   "cell_type": "markdown",
   "metadata": {},
   "source": []
  }
 ],
 "metadata": {
  "kernelspec": {
   "display_name": "Python 3",
   "language": "python",
   "name": "python3"
  },
  "language_info": {
   "codemirror_mode": {
    "name": "ipython",
    "version": 3
   },
   "file_extension": ".py",
   "mimetype": "text/x-python",
   "name": "python",
   "nbconvert_exporter": "python",
   "pygments_lexer": "ipython3",
   "version": "3.10.15"
  }
 },
 "nbformat": 4,
 "nbformat_minor": 0
}
