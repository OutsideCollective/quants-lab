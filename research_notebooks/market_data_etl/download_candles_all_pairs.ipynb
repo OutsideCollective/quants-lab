{
 "cells": [
  {
   "cell_type": "markdown",
   "metadata": {
    "collapsed": false,
    "jupyter": {
     "outputs_hidden": false
    }
   },
   "source": [
    "# ETL Pipeline: Download Historical Candle Data\n",
    "\n",
    "## 📊 Overview\n",
    "This notebook implements an ETL (Extract, Transform, Load) pipeline for downloading historical OHLCV (Open, High, Low, Close, Volume) candle data from cryptocurrency exchanges. It handles rate limiting, batch processing, and data caching for efficient data collection.\n",
    "\n",
    "## 🎯 Objectives\n",
    "1. **Data Extraction**: Download historical price data from exchange APIs\n",
    "2. **Batch Processing**: Handle multiple trading pairs and timeframes efficiently\n",
    "3. **Rate Limit Management**: Respect exchange API limits to avoid throttling\n",
    "4. **Data Caching**: Store downloaded data locally for future use\n",
    "5. **Visualization**: Preview downloaded data with interactive charts\n",
    "\n",
    "## 📋 Prerequisites\n",
    "- Exchange API access (e.g., Binance Perpetual) if you are in the US use OKX\n",
    "- Network connection for API calls\n",
    "- Sufficient disk space for data storage (~100MB per pair/interval)\n",
    "\n",
    "## ⚠️ Important Notes on Rate Limiting\n",
    "Currently, Hummingbot candles don't use a shared rate limit (this is planned for future updates). Therefore:\n",
    "- **Batch Size**: Keep `BATCH_CANDLES_REQUEST` low (2-3) to avoid hitting limits\n",
    "- **Sleep Time**: Increase `SLEEP_REQUEST` (10+ seconds) for safety\n",
    "- **Monitor**: Watch for 429 (Too Many Requests) errors and adjust accordingly\n",
    "\n",
    "## 📈 Expected Outputs\n",
    "- Cached candle data in `app/data/cache/candles/`\n",
    "- Multiple timeframe data (1m, 15m, etc.)\n",
    "- Interactive candlestick charts for data validation"
   ]
  },
  {
   "metadata": {
    "collapsed": false,
    "jupyter": {
     "outputs_hidden": false
    },
    "ExecuteTime": {
     "end_time": "2025-09-10T21:22:40.301370Z",
     "start_time": "2025-09-10T21:22:40.206290Z"
    }
   },
   "cell_type": "code",
   "source": [
    "from core.data_sources.clob import CLOBDataSource\n",
    "import warnings\n",
    "\n",
    "warnings.filterwarnings(\"ignore\")\n",
    "\n",
    "\n",
    "# Main class to access central limit order book connectors\n",
    "clob = CLOBDataSource()\n",
    "\n",
    "# Candles config\n",
    "CONNECTOR_NAME = \"binance_perpetual\"\n",
    "INTERVALS = [\"1m\"]\n",
    "\n",
    "DAYS = 360  # Number of days of historical data to download\n",
    "\n",
    "# Rate limits config\n",
    "BATCH_CANDLES_REQUEST = 1  # Number of trading pairs to request in each batch\n",
    "SLEEP_REQUEST = 10  # Seconds to wait between batches"
   ],
   "outputs": [
    {
     "name": "stderr",
     "output_type": "stream",
     "text": [
      "2025-09-10 18:22:40,252 - asyncio - ERROR - Unclosed client session\n",
      "client_session: <aiohttp.client.ClientSession object at 0x379719640>\n"
     ]
    }
   ],
   "execution_count": 10
  },
  {
   "cell_type": "code",
   "metadata": {
    "collapsed": false,
    "jupyter": {
     "is_executing": true
    },
    "ExecuteTime": {
     "start_time": "2025-09-10T21:22:42.279109Z"
    }
   },
   "source": [
    "trading_rules = await clob.get_trading_rules(CONNECTOR_NAME)\n",
    "trading_pairs = trading_rules.get_all_trading_pairs()\n",
    "all_candles = {\n",
    "    interval: await clob.get_candles_batch_last_days(CONNECTOR_NAME, trading_pairs, interval, DAYS, BATCH_CANDLES_REQUEST,\n",
    "                                                  SLEEP_REQUEST) for interval in INTERVALS\n",
    "}\n",
    "clob.dump_candles_cache()"
   ],
   "outputs": [
    {
     "name": "stdout",
     "output_type": "stream",
     "text": [
      "Batch 1/526\n",
      "Start: 0, End: 1\n"
     ]
    },
    {
     "name": "stderr",
     "output_type": "stream",
     "text": [
      "2025-09-10 18:22:53,861 - asyncio - ERROR - Task was destroyed but it is pending!\n",
      "task: <Task pending name='Task-738' coro=<safe_wrapper() running at /opt/anaconda3/envs/quants-lab/lib/python3.12/site-packages/hummingbot/core/utils/async_utils.py:9> wait_for=<Future pending cb=[Task.task_wakeup()]>>\n"
     ]
    }
   ],
   "execution_count": null
  },
  {
   "metadata": {},
   "cell_type": "code",
   "source": [
    "from core.data_structures.candles import Candles\n",
    "\n",
    "# Display info about downloaded candles\n",
    "print(f\"Downloaded data for {len(all_candles[INTERVALS[0]])} trading pairs\")\n",
    "print(\"\\nTrading pairs downloaded:\")\n",
    "for i, candles_obj in enumerate(all_candles[INTERVALS[0]]):\n",
    "    print(f\"{i+1}. {candles_obj.trading_pair}: {len(candles_obj.data)} candles\")\n",
    "\n",
    "# Get the first trading pair as example (BTC-USDT)\n",
    "candles: Candles = all_candles[INTERVALS[0]][0]\n",
    "print(f\"\\nExample: Showing {candles.trading_pair} data\")"
   ],
   "outputs": [],
   "execution_count": null
  },
  {
   "metadata": {},
   "cell_type": "code",
   "source": "candles.plot()",
   "outputs": [],
   "execution_count": null
  }
 ],
 "metadata": {
  "kernelspec": {
   "display_name": "Python 3 (ipykernel)",
   "language": "python",
   "name": "python3"
  },
  "language_info": {
   "codemirror_mode": {
    "name": "ipython",
    "version": 3
   },
   "file_extension": ".py",
   "mimetype": "text/x-python",
   "name": "python",
   "nbconvert_exporter": "python",
   "pygments_lexer": "ipython3",
   "version": "3.10.15"
  }
 },
 "nbformat": 4,
 "nbformat_minor": 4
}
