{
 "cells": [
  {
   "cell_type": "code",
   "metadata": {
    "ExecuteTime": {
     "end_time": "2025-04-23T17:09:56.054510Z",
     "start_time": "2025-04-23T17:09:56.053060Z"
    }
   },
   "source": [
    "# This is necessary to recognize the modules\n",
    "import os\n",
    "import sys\n",
    "import warnings\n",
    "\n",
    "warnings.filterwarnings(\"ignore\")\n",
    "\n",
    "root_path = os.path.abspath(os.path.join(os.getcwd(), '../..'))\n",
    "sys.path.append(root_path)"
   ],
   "outputs": [],
   "execution_count": 1
  },
  {
   "metadata": {
    "ExecuteTime": {
     "end_time": "2025-04-23T17:10:09.339170Z",
     "start_time": "2025-04-23T17:10:09.198445Z"
    }
   },
   "cell_type": "code",
   "source": [
    "from core.backtesting.optimizer import StrategyOptimizer\n",
    "\n",
    "# Create the optimizer\n",
    "optimizer = StrategyOptimizer(root_path=root_path)\n",
    "\n",
    "# Launch the Optuna dashboard\n",
    "optimizer.launch_optuna_dashboard()"
   ],
   "outputs": [],
   "execution_count": 3
  },
  {
   "cell_type": "code",
   "metadata": {},
   "source": [
    "import datetime\n",
    "from core.backtesting.optimizer import StrategyOptimizer\n",
    "from research_notebooks.smugplug.smugplug_config_gen_simple import SmugPlugConfigGenerator\n",
    "\n",
    "# Define the date range for the optimization\n",
    "start_date = datetime.datetime(2024, 10, 1)\n",
    "end_date = datetime.datetime(2024, 11, 1)\n",
    "\n",
    "# Create the configuration generator\n",
    "config_generator = SmugPlugConfigGenerator(start_date=start_date, end_date=end_date)\n",
    "\n",
    "# Create the optimizer\n",
    "optimizer = StrategyOptimizer(root_path=root_path)\n",
    "\n",
    "# Launch the Optuna dashboard\n",
    "optimizer.launch_optuna_dashboard()\n",
    "\n",
    "# Run the optimization\n",
    "await optimizer.optimize(\n",
    "    study_name=f\"smugplug_optimization\",\n",
    "    config_generator=config_generator,\n",
    "    n_trials=100,\n",
    ")\n",
    "optimizer.get_study_best_params(f\"smugplug_optimization\")\n"
   ],
   "outputs": [],
   "execution_count": null
  },
  {
   "cell_type": "code",
   "metadata": {},
   "source": [],
   "outputs": [],
   "execution_count": null
  }
 ],
 "metadata": {
  "kernelspec": {
   "display_name": "quants-lab",
   "language": "python",
   "name": "python3"
  },
  "language_info": {
   "codemirror_mode": {
    "name": "ipython",
    "version": 3
   },
   "file_extension": ".py",
   "mimetype": "text/x-python",
   "name": "python",
   "nbconvert_exporter": "python",
   "pygments_lexer": "ipython3",
   "version": "3.10.15"
  }
 },
 "nbformat": 4,
 "nbformat_minor": 2
}
