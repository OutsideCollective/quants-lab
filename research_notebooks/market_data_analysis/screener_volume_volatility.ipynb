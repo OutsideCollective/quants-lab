{
 "cells": [
  {
   "cell_type": "code",
   "metadata": {
    "collapsed": false,
    "jupyter": {
     "outputs_hidden": false
    }
   },
   "source": [
    "# This is necessary to recognize the modules\n",
    "import os\n",
    "import sys\n",
    "from decimal import Decimal\n",
    "import warnings\n",
    "\n",
    "warnings.filterwarnings(\"ignore\")\n",
    "\n",
    "root_path = os.path.abspath(os.path.join(os.getcwd(), '../..'))\n",
    "sys.path.append(root_path)"
   ],
   "outputs": [],
   "execution_count": null
  },
  {
   "cell_type": "code",
   "metadata": {
    "collapsed": false,
    "jupyter": {
     "outputs_hidden": false
    }
   },
   "source": [
    "from core.data_sources.clob import CLOBDataSource\n",
    "\n",
    "# Get trading rules and candles\n",
    "clob = CLOBDataSource()"
   ],
   "outputs": [],
   "execution_count": null
  },
  {
   "cell_type": "code",
   "metadata": {
    "collapsed": false,
    "jupyter": {
     "outputs_hidden": false
    }
   },
   "source": [
    "# Constants\n",
    "CONNECTOR_NAME = \"okx\"\n",
    "QUOTE_ASSET = \"USDT\"\n",
    "INTERVAL = \"1d\"\n",
    "MIN_NOTIONAL_SIZE = 5\n",
    "DAYS = 360\n",
    "FETCH_CANDLES = True\n",
    "# Features configuration\n",
    "VOLATILITY_WINDOW = 20\n",
    "VOLUME_SHORT_WINDOW = 20\n",
    "VOLUME_LONG_WINDOW = 50"
   ],
   "outputs": [],
   "execution_count": null
  },
  {
   "cell_type": "markdown",
   "metadata": {
    "collapsed": false,
    "jupyter": {
     "outputs_hidden": false
    }
   },
   "source": [
    "# Download data\n",
    "- Get trading rules\n",
    "- Get candles for the last x days"
   ]
  },
  {
   "cell_type": "code",
   "metadata": {
    "collapsed": false,
    "jupyter": {
     "outputs_hidden": false
    }
   },
   "source": [
    "\n",
    "\n",
    "trading_rules = await clob.get_trading_rules(CONNECTOR_NAME)\n",
    "trading_pairs = trading_rules.filter_by_quote_asset(QUOTE_ASSET)\\\n",
    "    .filter_by_min_notional_size(Decimal(MIN_NOTIONAL_SIZE))\\\n",
    "    .get_all_trading_pairs()"
   ],
   "outputs": [],
   "execution_count": null
  },
  {
   "cell_type": "code",
   "metadata": {
    "collapsed": false
   },
   "source": [
    "trading_pairs"
   ],
   "outputs": [],
   "execution_count": null
  },
  {
   "cell_type": "code",
   "metadata": {
    "collapsed": false
   },
   "source": [
    "BATCH_CANDLES_REQUEST = 2\n",
    "SLEEP_REQUEST = 2.0\n",
    "\n",
    "\n",
    "if FETCH_CANDLES:\n",
    "    candles = await clob.get_candles_batch_last_days(CONNECTOR_NAME, trading_pairs, INTERVAL, DAYS, BATCH_CANDLES_REQUEST, SLEEP_REQUEST)\n",
    "    clob.dump_candles_cache(root_path)\n",
    "else:\n",
    "    clob.load_candles_cache(root_path)"
   ],
   "outputs": [],
   "execution_count": null
  },
  {
   "cell_type": "code",
   "metadata": {
    "collapsed": false
   },
   "source": [
    "candles = [value for key, value in clob.candles_cache.items() if key[2] == INTERVAL and key[0] == CONNECTOR_NAME]"
   ],
   "outputs": [],
   "execution_count": null
  },
  {
   "cell_type": "code",
   "metadata": {
    "collapsed": false,
    "jupyter": {
     "outputs_hidden": false
    }
   },
   "source": [
    "from core.features.candles.volatility import VolatilityConfig\n",
    "from core.features.candles.volume import VolumeConfig\n",
    "from research_notebooks.market_data_analysis.utils import generate_report\n",
    "\n",
    "report = generate_report(\n",
    "    candles=candles,\n",
    "    volatility_config=VolatilityConfig(window=VOLATILITY_WINDOW),\n",
    "    volume_config=VolumeConfig(short_window=VOLUME_SHORT_WINDOW, long_window=VOLUME_LONG_WINDOW))\n",
    "report"
   ],
   "outputs": [],
   "execution_count": null
  },
  {
   "cell_type": "code",
   "metadata": {},
   "source": [
    "VOLUME_QUANTILE = 0.5\n",
    "NATR_QUANTILE = 0.5\n",
    "CURRENT_POSITION_THRESHOLD = 0.8\n",
    "TOP_X_MARKETS = 20\n",
    "\n",
    "top_markets = report[(report['average_volume_per_hour'] > report['average_volume_per_hour'].quantile(VOLUME_QUANTILE)) &\n",
    "                     (report['mean_natr'] > report['mean_natr'].quantile(NATR_QUANTILE)) &\n",
    "                     (report['current_position'] > CURRENT_POSITION_THRESHOLD)]\n",
    "top_markets = top_markets.sort_values(by='current_position', ascending=False).head(TOP_X_MARKETS)\n",
    "top_markets_candles = {candle.trading_pair: candle for candle in candles if candle.trading_pair in top_markets[\"trading_pair\"].values}\n",
    "\n"
   ],
   "outputs": [],
   "execution_count": null
  },
  {
   "cell_type": "code",
   "metadata": {},
   "source": [
    "top_markets_candles[\"DOGS-USDT\"].plot()"
   ],
   "outputs": [],
   "execution_count": null
  }
 ],
 "metadata": {
  "kernelspec": {
   "display_name": "Python 3 (ipykernel)",
   "language": "python",
   "name": "python3"
  },
  "language_info": {
   "codemirror_mode": {
    "name": "ipython",
    "version": 3
   },
   "file_extension": ".py",
   "mimetype": "text/x-python",
   "name": "python",
   "nbconvert_exporter": "python",
   "pygments_lexer": "ipython3",
   "version": "3.10.15"
  }
 },
 "nbformat": 4,
 "nbformat_minor": 4
}
